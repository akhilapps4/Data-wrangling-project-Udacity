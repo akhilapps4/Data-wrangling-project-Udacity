{
 "cells": [
  {
   "cell_type": "markdown",
   "metadata": {},
   "source": [
    "# Introduction\n",
    "\n",
    "#### The dataset i used for wrangling (and analyzing and visualizing)in this project  is the tweet archive of Twitter user @dog_rates, also known as WeRateDogs.WeRateDogs is a Twitter account that rates people's dogs with a humorous comment about the dog. These ratings almost always have a denominator of 10\n",
    "\n",
    "## Project Requirements\n",
    "### For this project i need to follow three wrangling steps\n",
    "#### Gathering \n",
    "#### Assessing\n",
    "#### Cleaning \n",
    "\n",
    "### Gathering Data\n",
    "#### The Gathering step involves three datafiles to gather like twitter_archive_enhanced.csv(given by udacity can be downloaded manually), Image_prediction(downloaded programatically) and tweet-json.txt ( downloaded through twitter- api)\n",
    "### Assessing Data\n",
    "#### Gathered data files should be accessed through both visual and programmatic assesment where i can see some wrong data types , missing values, non-descriptive column headers and tidiness\n",
    "### Cleaning Data\n",
    "#### This step involves of cleaning the data that we assesed the data in earlier step and there by cleaning we need to combine all the three data frames in to one dataframe for analysis and visualization\n",
    "\n",
    "### Conclusion\n",
    "#### To conlcude, in this project i learned importance of cleaning the data before analyze because if we dont clean the data, we get bad insights that lead to wrong analysis\n",
    "#### I also learned data comes in different formats like csv, txt, json. All we need to do is aware of packages that useful to load the data\n",
    "#### This wrangling process is a iterative process where i need to go back for assesment or gather step over and over for better insights of data"
   ]
  },
  {
   "cell_type": "code",
   "execution_count": null,
   "metadata": {},
   "outputs": [],
   "source": []
  }
 ],
 "metadata": {
  "kernelspec": {
   "display_name": "Python 3",
   "language": "python",
   "name": "python3"
  },
  "language_info": {
   "codemirror_mode": {
    "name": "ipython",
    "version": 3
   },
   "file_extension": ".py",
   "mimetype": "text/x-python",
   "name": "python",
   "nbconvert_exporter": "python",
   "pygments_lexer": "ipython3",
   "version": "3.6.7"
  }
 },
 "nbformat": 4,
 "nbformat_minor": 2
}
